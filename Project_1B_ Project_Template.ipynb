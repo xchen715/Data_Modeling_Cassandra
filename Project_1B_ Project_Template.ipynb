{
 "cells": [
  {
   "cell_type": "code",
   "execution_count": 1,
   "metadata": {},
   "outputs": [],
   "source": [
    "import pandas as pd\n",
    "import cassandra\n",
    "import re\n",
    "import os\n",
    "import glob\n",
    "import numpy as np\n",
    "import json\n",
    "import csv"
   ]
  },
  {
   "cell_type": "code",
   "execution_count": 2,
   "metadata": {},
   "outputs": [
    {
     "name": "stdout",
     "output_type": "stream",
     "text": [
      "/home/workspace\n"
     ]
    }
   ],
   "source": [
    "print(os.getcwd())\n",
    "filepath = os.getcwd() + '/event_data'\n",
    "\n",
    "for root, dirs, files in os.walk(filepath):\n",
    "    file_path_list = glob.glob(os.path.join(root,'*'))"
   ]
  },
  {
   "cell_type": "code",
   "execution_count": 3,
   "metadata": {},
   "outputs": [],
   "source": [
    "full_data_rows_list = [] \n",
    "    \n",
    "for f in file_path_list:\n",
    "    with open(f, 'r', encoding = 'utf8', newline='') as csvfile: \n",
    "        csvreader = csv.reader(csvfile) \n",
    "        next(csvreader)\n",
    "        \n",
    "        for line in csvreader:\n",
    "            \n",
    "            full_data_rows_list.append(line) \n",
    "\n",
    "csv.register_dialect('myDialect', quoting=csv.QUOTE_ALL, skipinitialspace=True)\n",
    "\n",
    "with open('event_datafile_new.csv', 'w', encoding = 'utf8', newline='') as f:\n",
    "    writer = csv.writer(f, dialect='myDialect')\n",
    "    writer.writerow(['artist','firstName','gender','itemInSession','lastName','length',\\\n",
    "                'level','location','sessionId','song','userId'])\n",
    "    for row in full_data_rows_list:\n",
    "        if (row[0] == ''):\n",
    "            continue\n",
    "        writer.writerow((row[0], row[2], row[3], row[4], row[5], row[6], row[7], row[8], row[12], row[13], row[16]))"
   ]
  },
  {
   "cell_type": "markdown",
   "metadata": {},
   "source": [
    "## Dataset contains the following columns: \n",
    "[0] artist <br>\n",
    "[1] firstName of user <br>\n",
    "[2] gender of user <br>\n",
    "[3] item number in session <br>\n",
    "[4] last name of user <br>\n",
    "[5] length of the song <br>\n",
    "[6] level (paid or free song) <br>\n",
    "[7] location of the user <br>\n",
    "[8] sessionId <br>\n",
    "[9] song title <br>\n",
    "[10] userId <br>\n",
    "\n",
    "<img src=\"images/image_event_datafile_new.jpg\">"
   ]
  },
  {
   "cell_type": "code",
   "execution_count": 4,
   "metadata": {},
   "outputs": [],
   "source": [
    "from cassandra.cluster import Cluster\n",
    "cluster = Cluster(['127.0.0.1'])\n",
    "\n",
    "session = cluster.connect()"
   ]
  },
  {
   "cell_type": "code",
   "execution_count": 5,
   "metadata": {},
   "outputs": [],
   "source": [
    "try:\n",
    "    session.execute(\"CREATE KEYSPACE IF NOT EXISTS sparkify \\\n",
    "    WITH REPLICATION = {'class' : 'SimpleStrategy', 'replication_factor' : 1}\")\n",
    "except Exceptions as e:\n",
    "    print(e) "
   ]
  },
  {
   "cell_type": "code",
   "execution_count": 6,
   "metadata": {},
   "outputs": [],
   "source": [
    "try:\n",
    "    session.set_keyspace('sparkify')\n",
    "except Exceptions as e:\n",
    "    print(e)"
   ]
  },
  {
   "cell_type": "markdown",
   "metadata": {},
   "source": [
    "# Goal 1. Get the song information of specific item in specific session.\n",
    "**Example query:** `SELECT artist, song, length FROM session_library WHERE sessionId = 338 AND itemInSession = 4` "
   ]
  },
  {
   "cell_type": "markdown",
   "metadata": {},
   "source": [
    "Because the combination of `sessionId` and `itemInSession` can make each data unique and will be used as criteria, they have to be in Primary Key; And using either `sessionId` or `itemInSession` as partition key can evenly distribute data."
   ]
  },
  {
   "cell_type": "code",
   "execution_count": 7,
   "metadata": {},
   "outputs": [
    {
     "name": "stdout",
     "output_type": "stream",
     "text": [
      "Faithless Music Matters (Mark Knight Dub) 495.30731201171875\n"
     ]
    }
   ],
   "source": [
    "########## drop and create the table ##########\n",
    "drop_session_library = \"DROP TABLE IF EXISTS session_library\"\n",
    "\n",
    "create_session_library = \"CREATE TABLE IF NOT EXISTS session_library (sessionId INT, iteminsession INT, \\\n",
    "artists TEXT, length FLOAT, song TEXT, userId INT, PRIMARY KEY (sessionId, itemInsession))\"\n",
    "\n",
    "try:\n",
    "    session.execute(drop_session_library)\n",
    "    session.execute(create_session_library)\n",
    "    \n",
    "except Exception as e:\n",
    "    print(e)\n",
    "\n",
    "########## insert values ##########\n",
    "file = 'event_datafile_new.csv'\n",
    "\n",
    "with open(file, encoding = 'utf8') as f:\n",
    "    csvreader = csv.reader(f)\n",
    "    next(csvreader) # skip header\n",
    "    for line in csvreader:\n",
    "        query = \"INSERT INTO session_library (sessionId, iteminsession, artists, length, song, userId)\"\n",
    "        query = query + \"VALUES (%s, %s, %s, %s, %s, %s)\"\n",
    "        \n",
    "        session.execute(query, (int(line[8]), int(line[3]), line[0], float(line[5]), line[9], int(line[10])))\n",
    "\n",
    "########## select value to see result ##########  \n",
    "\n",
    "select_session = \"SELECT artists, song, length FROM session_library WHERE sessionId = 338 AND itemInSession = 4\"\n",
    "try:\n",
    "    rows = session.execute(select_session)\n",
    "except Exception as e:\n",
    "    print(e)\n",
    "for row in rows:\n",
    "    print(row.artists, row.song, row.length)"
   ]
  },
  {
   "cell_type": "markdown",
   "metadata": {},
   "source": [
    "# Goal 2. Get songs information order by listening sequence for a specific user during a specific session.\n",
    "**Example query:** `SELECT artist, song, firstName, lastName FROM user_library WHERE userId = 10 AND sessionId =182` "
   ]
  },
  {
   "cell_type": "markdown",
   "metadata": {},
   "source": [
    "To achieve `WHERE` clause filtering purpose, we need `userId` and `sessionId` in the Primary Key. But the combination of `userId` and `sessionId` can not make each data unique, so `itemInSession` is also needed. To list data in the order of `itemInSession`, `itemInSession` needs to be clustering column. To avoid error, Use *COMPOSITE PARTITION KEY* for `userId` and `sessionId`."
   ]
  },
  {
   "cell_type": "code",
   "execution_count": 19,
   "metadata": {},
   "outputs": [
    {
     "name": "stdout",
     "output_type": "stream",
     "text": [
      "Down To The Bone Keep On Keepin' On Sylvie Cruz\n",
      "Three Drives Greece 2000 Sylvie Cruz\n",
      "Sebastien Tellier Kilometer Sylvie Cruz\n",
      "Lonnie Gordon Catch You Baby (Steve Pitron & Max Sanna Radio Edit) Sylvie Cruz\n"
     ]
    }
   ],
   "source": [
    "########## drop and create the table ##########\n",
    "drop_user_library = \"DROP TABLE IF EXISTS user_library\"\n",
    "\n",
    "create_user_library = \"CREATE TABLE IF NOT EXISTS user_library (userId INT, sessionId INT, itemInsession INT, artist TEXT, song TEXT, \\\n",
    "firstName TEXT, lastName TEXT, PRIMARY KEY ((userId, sessionId),itemInsession))\"\n",
    "\n",
    "try:\n",
    "    session.execute(drop_user_library)\n",
    "    session.execute(create_user_library)\n",
    "except Exception as e:\n",
    "    print(e)\n",
    "\n",
    "########## insert values ##########\n",
    "\n",
    "with open(file, encoding = 'utf8') as f:\n",
    "    csvreader = csv.reader(f)\n",
    "    next(csvreader) # skip header\n",
    "    for line in csvreader:\n",
    "        query = \"INSERT INTO user_library (userId, sessionId, itemInsession, artist, song, firstName, lastName)\"\n",
    "        query = query + \"VALUES (%s, %s, %s, %s, %s, %s, %s)\"\n",
    "        \n",
    "        session.execute(query, (int(line[10]),int(line[8]),int(line[3]),line[0],line[9],line[1],line[4]))\n",
    "        \n",
    "########## select value to see result ##########  \n",
    "select_user = \"SELECT artist, song, firstName, lastName FROM user_library WHERE userId = 10 AND sessionId = 182\"\n",
    "try:\n",
    "    rows = session.execute(select_user)\n",
    "except Exception as e:\n",
    "    print(e)\n",
    "    \n",
    "for row in rows:\n",
    "    print(row.artist, row.song, row.firstname, row.lastname)"
   ]
  },
  {
   "cell_type": "markdown",
   "metadata": {},
   "source": [
    "# Goal 3. Who listen to specific song.\n",
    "**Example query:** `SELECT firstName, lastName FROM song_library WHERE song = 'All Hands Against His Own'` "
   ]
  },
  {
   "cell_type": "code",
   "execution_count": 20,
   "metadata": {},
   "outputs": [
    {
     "name": "stdout",
     "output_type": "stream",
     "text": [
      "Jacqueline Lynch\n",
      "Tegan Levine\n",
      "Sara Johnson\n"
     ]
    }
   ],
   "source": [
    "## Query 3: every user name (first and last) in music app history who listened to the song 'All Hands Against His Own'\n",
    "\n",
    "########## drop and create the table ##########\n",
    "drop_song_library = \"DROP TABLE IF EXISTS song_library\"\n",
    "\n",
    "create_song_library = \"CREATE TABLE IF NOT EXISTS song_library (song TEXT, firstName TEXT, lastName TEXT,userId INT, PRIMARY KEY (song, userId))\"\n",
    "\n",
    "try:\n",
    "    session.execute(drop_song_library)\n",
    "    session.execute(create_song_library)\n",
    "except Exception as e:\n",
    "    print(e)\n",
    "\n",
    "########## insert values ##########\n",
    "\n",
    "with open(file, encoding = 'utf8') as f:\n",
    "    csvreader = csv.reader(f)\n",
    "    next(csvreader) # skip header\n",
    "    for line in csvreader:\n",
    "        query = \"INSERT INTO song_library (song, firstName, lastName, userId)\"\n",
    "        query = query + \"VALUES (%s, %s, %s, %s)\"\n",
    "        \n",
    "        session.execute(query, (line[9],line[1],line[4],int(line[10])))\n",
    "        \n",
    "########## select  ##########  \n",
    "select_song = \"SELECT firstName, lastName FROM song_library WHERE song = 'All Hands Against His Own'\"\n",
    "try:\n",
    "    rows = session.execute(select_song)\n",
    "except Exception as e:\n",
    "    print(e)\n",
    "for row in rows:\n",
    "    print(row.firstname, row.lastname)   "
   ]
  },
  {
   "cell_type": "code",
   "execution_count": 21,
   "metadata": {},
   "outputs": [],
   "source": [
    "try:\n",
    "    session.execute(drop_session_library)\n",
    "    session.execute(drop_song_library)\n",
    "    session.execute(drop_user_library)\n",
    "except Exception as e:\n",
    "    print(e)"
   ]
  },
  {
   "cell_type": "code",
   "execution_count": 22,
   "metadata": {},
   "outputs": [],
   "source": [
    "session.shutdown()\n",
    "cluster.shutdown()"
   ]
  }
 ],
 "metadata": {
  "kernelspec": {
   "display_name": "Python 3",
   "language": "python",
   "name": "python3"
  },
  "language_info": {
   "codemirror_mode": {
    "name": "ipython",
    "version": 3
   },
   "file_extension": ".py",
   "mimetype": "text/x-python",
   "name": "python",
   "nbconvert_exporter": "python",
   "pygments_lexer": "ipython3",
   "version": "3.6.3"
  }
 },
 "nbformat": 4,
 "nbformat_minor": 2
}
